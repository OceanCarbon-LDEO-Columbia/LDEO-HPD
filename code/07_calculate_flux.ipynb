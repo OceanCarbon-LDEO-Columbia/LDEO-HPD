{
 "cells": [
  {
   "cell_type": "code",
   "execution_count": 15,
   "id": "f923667b-9636-41af-9dc9-13c00cc1d154",
   "metadata": {},
   "outputs": [],
   "source": [
    "\n",
    "import pickle\n",
    "import os\n",
    "import scipy\n",
    "from scipy import stats\n",
    "import numpy as np\n",
    "import pandas as pd\n",
    "import xgboost as xgb\n",
    "import sklearn\n",
    "from sklearn.model_selection import train_test_split\n",
    "import xarray as xr\n",
    "import datetime\n",
    "import matplotlib.dates as mdates\n",
    "\n",
    "from numpy import errstate,isneginf,array\n",
    "import yaml\n",
    "\n",
    "import seaborn as sns\n",
    "import cmocean as cm            # really nice colorbars\n",
    "import matplotlib.pyplot as plt # for making plots"
   ]
  },
  {
   "cell_type": "code",
   "execution_count": 2,
   "id": "46c470ad-c96f-485a-b388-bc7e80098916",
   "metadata": {},
   "outputs": [],
   "source": [
    "global_vars = yaml.safe_load(open('../config.yml', 'r') )\n",
    "\n",
    "#This has custom functions - log transform\n",
    "%run './00_custom_functions.ipynb'\n",
    "#more functions for flux conversions\n",
    "%run './00_co2_flux_equations.ipynb'"
   ]
  },
  {
   "cell_type": "code",
   "execution_count": 3,
   "id": "b9ad293f-9981-44ae-8953-a94409370d34",
   "metadata": {},
   "outputs": [],
   "source": [
    "data_folder_root = global_vars['download_folder']\n",
    "final_result_folder = global_vars['hpd_save_folder']"
   ]
  },
  {
   "cell_type": "code",
   "execution_count": 4,
   "id": "44bac882-743a-47ad-a77f-35c7b0efece0",
   "metadata": {},
   "outputs": [],
   "source": [
    "# select end year here so that the code works even when extending\n",
    "endyear = 2023\n",
    "endyearmon = 202312"
   ]
  },
  {
   "cell_type": "code",
   "execution_count": 5,
   "id": "a3dae5ae-1fb0-4ed7-9733-3a20af4d7271",
   "metadata": {},
   "outputs": [],
   "source": [
    "# processed_start_yearmonth = '1982-01'  \n",
    "processed_end_yearmonth = '2023-12'   \n",
    "processed_start_yearmonth_back_in_time = '1959-01'  \n",
    "\n",
    "#this is just the year rather than above is yearmonth\n",
    "# processed_start_year = '1982'\n",
    "processed_end_year = '2023'  \n",
    "processed_start_year_back_in_time = '1959' "
   ]
  },
  {
   "cell_type": "code",
   "execution_count": 7,
   "id": "af7f400c-1b82-48df-9231-7379828f2202",
   "metadata": {},
   "outputs": [],
   "source": [
    "#can load unfilled or filled version of HPD here\n",
    "#filled means coastal regions that did not have a value assigned in our ML have been filled with a scaled version of Landschutzer et al 2020 climatology, scaled with HPD product.\n",
    "#method is similar to what is done with SeaFlux, Fay et al. 2021 and Gregor et al. 2021\n",
    "\n",
    "#load in our most recent product\n",
    "final_result_folder = global_vars['hpd_save_folder']\n",
    "\n",
    "ds = xr.load_dataset(f\"{final_result_folder}/GCB_2024/HPD_pCO2_cc2000s_1x1_recon_1959-2023.nc\")\n",
    "hpd = ds['HPD_pCO2_back_in_time'] #tehcnically this is in fco2!\n",
    "\n",
    "ds = xr.load_dataset(f'{final_result_folder}/GCB_2024/HPD_pCO2_cc2000s_1x1_recon_1959-2023_filled.nc') \n",
    "hpd_filled = ds['HPD_filled'] #tehcnically this is in fco2!\n",
    "\n"
   ]
  },
  {
   "cell_type": "code",
   "execution_count": null,
   "id": "519292d1-6344-4956-b05b-11f15230e015",
   "metadata": {},
   "outputs": [],
   "source": []
  },
  {
   "cell_type": "markdown",
   "id": "812e0e3c-ff89-4d0b-a69e-da42073f65d3",
   "metadata": {},
   "source": [
    "### Flux needs:\n",
    "atm fco2\n",
    "solubility\n",
    "ice\n",
    "sst\n",
    "sal\n",
    "mslp\n",
    "winds"
   ]
  },
  {
   "cell_type": "code",
   "execution_count": null,
   "id": "c8304618-8989-4edc-bc51-a35c29bc7c38",
   "metadata": {},
   "outputs": [],
   "source": []
  },
  {
   "cell_type": "code",
   "execution_count": 10,
   "id": "0a3a8024-27a0-4f51-b126-1ced21ad87ff",
   "metadata": {},
   "outputs": [],
   "source": [
    "\n",
    "\n",
    "# SSS from E4.2.2 (Jan 1959 - end)\n",
    "SSS = xr.open_dataset(f\"{data_folder_root}/SSS/processed/SSS_Met-Office-Hadley-Centre_EN422f-g10-analyses_195901-{endyearmon}.nc\")\n",
    "sss = SSS.sss.sel(time=slice(\"01-01-1959\",f\"12-31-{endyear}\"))\n",
    "\n",
    "# SST from ERA5 (Jan 1958-end)\n",
    "SST = xr.open_dataset(f\"{data_folder_root}/SST/processed/SST_ECMWF_ERA5-monthly-reanalysis-1x1-SST_195901-{endyearmon}.nc\")\n",
    "sst = SST.sst_era5.sel(time=slice(\"01-01-1959\",f\"12-31-{endyear}\"))\n",
    "\n",
    "\n",
    "# Ice from Hadley (starts in Jan 1870 and can get updated versions at https://www.metoffice.gov.uk/hadobs/hadisst/data/download.html to extend)\n",
    "ICE = xr.open_dataset(f\"{data_folder_root}/Ice/processed/HadISST_ice_1x1_195901-{endyearmon}.nc\")\n",
    "ice = ICE.sic.sel(time=slice(\"01-01-1959\",f\"12-31-{endyear}\"))\n",
    "\n"
   ]
  },
  {
   "cell_type": "code",
   "execution_count": 11,
   "id": "01bfccdc-6140-44ce-be5c-81848e1c778d",
   "metadata": {},
   "outputs": [],
   "source": [
    "# Wind and MSLP from ERA5:\n",
    "#updated through 2023 and it is saved as: /data/artemis/observations/ERA5/processed/ERA5_MSLP_WS10_1x1_mon_1958-2023.nc this was done before\n",
    "#Im trying to update with new code in the data folder root but I cant get it to download right now\n",
    "era5 = xr.open_dataset(f'/data/artemis/observations/ERA5/processed/ERA5_MSLP_WS10_1x1_mon_1958-{endyear}.nc')\n",
    "\n",
    "                      \n",
    "era5 = era5.sel(time=slice(\"01-01-1959\",f\"12-31-{endyear}\"))\n",
    "mslp = era5.mslp / 100 # Pascals to hPa\n",
    "wind = era5.ws10\n",
    "\n",
    "#note that these all have values over land also. just fyi\n"
   ]
  },
  {
   "cell_type": "code",
   "execution_count": 12,
   "id": "ed6df37f-c1b3-4c7f-a79d-5c366bf3adc4",
   "metadata": {},
   "outputs": [
    {
     "name": "stdout",
     "output_type": "stream",
     "text": [
      "('time', 'ylat', 'xlon')\n",
      "(780, 180, 360)\n"
     ]
    }
   ],
   "source": [
    "wsf = xr.open_dataset(f'/data/artemis/observations/ERA5/processed/ERA5_WS_STD_1x1_mon_1958-2022.nc') #get previous years from file\n",
    "wind_std_start = wsf.ws_std.sel(time=slice(\"01-01-1959\",f\"12-31-2022\"))\n",
    "#need std from earlier years to load in\n",
    "ds = xr.open_dataset(f\"{data_folder_root}/Wind/processed/Wind_ECMWF_ERA5-monthly-10m-uv-wind-1x1_202301-202312.nc\")\n",
    "wind_std_extra = ds.ws_std\n",
    "\n",
    "wind_std_start = wind_std_start.rename({'lat': 'ylat','lon': 'xlon'})#rename to be consistent with prior work\n",
    "\n",
    "\n",
    "wind_std = xr.concat([wind_std_start,wind_std_extra],\"time\")\n",
    "\n",
    "\n",
    "del wind_std_extra, wind_std_start    \n"
   ]
  },
  {
   "cell_type": "code",
   "execution_count": 13,
   "id": "de45a110-3b34-457e-8311-884a6bb45c96",
   "metadata": {},
   "outputs": [],
   "source": [
    "# MSLP from ERA5 made by manada in 2024                      \n",
    "SLP = xr.open_dataset(f\"{data_folder_root}/SLP/processed/SLP_ECMWF_ERA5-monthly-reanalysis-1x1-MSLP_195901-202312.nc\")                       \n",
    "mslp2 = SLP.mslp# / 100 # already in hPa"
   ]
  },
  {
   "cell_type": "code",
   "execution_count": 16,
   "id": "0a6a76c7-7b48-4ef2-83c9-50d0f8fc7bb0",
   "metadata": {},
   "outputs": [],
   "source": [
    "# Atmospheric fCO2\n",
    "\n",
    "atmos = xr.open_dataset(f\"{data_folder_root}/xCO2/processed/global_monthly_pco2_fco2_1959-2023_195901-202312.nc\") \n",
    "fCO2_air_uatm = atmos.atm_fco2\n"
   ]
  },
  {
   "cell_type": "code",
   "execution_count": null,
   "id": "16e0e0e2-7a37-4e93-a32b-117b6cf6040f",
   "metadata": {},
   "outputs": [],
   "source": []
  },
  {
   "cell_type": "markdown",
   "id": "6a9c43aa-2d94-47f0-b794-b32ae79506ef",
   "metadata": {},
   "source": [
    "### Calculate fluxes"
   ]
  },
  {
   "cell_type": "code",
   "execution_count": 18,
   "id": "7c223e89-a19b-47b0-bd97-619f233e4d36",
   "metadata": {},
   "outputs": [],
   "source": [
    "%run 00_co2_flux_equations.ipynb"
   ]
  },
  {
   "cell_type": "code",
   "execution_count": 19,
   "id": "44fb6fa7-4123-4814-9fcf-5e2189d0894e",
   "metadata": {},
   "outputs": [],
   "source": [
    "kw_esst = calc_kw(wind, wind_std, sst, ice) #units of cm/hr"
   ]
  },
  {
   "cell_type": "code",
   "execution_count": 20,
   "id": "75c2da54-45da-48f6-a08d-980639dbc9d0",
   "metadata": {},
   "outputs": [
    {
     "data": {
      "text/plain": [
       "<matplotlib.colorbar.Colorbar at 0x7f2878ffb6d0>"
      ]
     },
     "execution_count": 20,
     "metadata": {},
     "output_type": "execute_result"
    },
    {
     "data": {
      "image/png": "[encoded data removed]",
      "text/plain": [
       "<Figure size 432x288 with 2 Axes>"
      ]
     },
     "metadata": {
      "needs_background": "light"
     },
     "output_type": "display_data"
    }
   ],
   "source": [
    "fig = plt.figure()\n",
    "plt.contourf(np.mean(sst,axis=0))\n",
    "plt.colorbar()"
   ]
  },
  {
   "cell_type": "code",
   "execution_count": null,
   "id": "8d3ce2ec-308c-4bdb-8d94-71f7cbd9851d",
   "metadata": {},
   "outputs": [],
   "source": []
  },
  {
   "cell_type": "code",
   "execution_count": 23,
   "id": "f57615b8-343d-4871-b61c-5556ef90dfa0",
   "metadata": {},
   "outputs": [],
   "source": [
    "K0blk = calc_k0_weiss1974(sss, sst+273.15, mslp/1013.25)  # units of mol/L/atm"
   ]
  },
  {
   "cell_type": "code",
   "execution_count": 24,
   "id": "4bedec10-3c27-4f0a-93be-65382da684e6",
   "metadata": {},
   "outputs": [
    {
     "data": {
      "text/plain": [
       "<matplotlib.collections.QuadMesh at 0x7f28738d0f10>"
      ]
     },
     "execution_count": 24,
     "metadata": {},
     "output_type": "execute_result"
    },
    {
     "data": {
      "image/png": "[encoded data removed]",
      "text/plain": [
       "<Figure size 432x288 with 2 Axes>"
      ]
     },
     "metadata": {
      "needs_background": "light"
     },
     "output_type": "display_data"
    }
   ],
   "source": [
    "K0blk[400,:,:].plot()"
   ]
  },
  {
   "cell_type": "code",
   "execution_count": null,
   "id": "99d0874e-c1ea-4f51-aa93-3001ab1d7151",
   "metadata": {},
   "outputs": [],
   "source": []
  },
  {
   "cell_type": "code",
   "execution_count": null,
   "id": "0d5de60c-abef-4e94-8be1-a8e9e703d808",
   "metadata": {},
   "outputs": [],
   "source": []
  },
  {
   "cell_type": "code",
   "execution_count": null,
   "id": "3e912974-7904-44b7-a2f9-dbc786cd8ede",
   "metadata": {},
   "outputs": [],
   "source": []
  },
  {
   "cell_type": "code",
   "execution_count": 26,
   "id": "61d6f1db-41d6-4845-8b78-7462b300c000",
   "metadata": {},
   "outputs": [],
   "source": [
    "date_range_start = f'1959-01-01T00:00:00.000000000'\n",
    "date_range_end = f'2023-12-31T00:00:00.000000000'\n",
    "# create date vector\n",
    "dates = pd.date_range(start=date_range_start,end=date_range_end,freq='MS') + np.timedelta64(14, 'D')"
   ]
  },
  {
   "cell_type": "code",
   "execution_count": 28,
   "id": "1b50f12a-63f8-400b-87d1-b020823346c4",
   "metadata": {},
   "outputs": [],
   "source": [
    "# Create DataSet that can be used for all other flux calculations!\n",
    "\n",
    "# Dont need to resave every time if it hasnt changed.\n",
    "\n",
    "\n",
    "\n",
    "ds_flux_prep = xr.Dataset({'K0':(['time','lat','lon'],K0blk),\n",
    "                           'kw':(['time','lat','lon'],kw_esst),\n",
    "                           'ws10':(['time','lat','lon'],wind),\n",
    "                           'ws10_std':(['time','lat','lon'],wind_std),\n",
    "                           'sss':(['time','lat','lon'],sss),\n",
    "                           'sst':(['time','lat','lon'],sst),\n",
    "                           'ice':(['time','lat','lon'],ice),\n",
    "                           'slp':(['time','lat','lon'],mslp/1013.25), #convert from hPa to atm\n",
    "                           'atmos_fco2':(['time','lat','lon'],fCO2_air_uatm),\n",
    "                           # 'mauna_fco2':(['time','lat','lon'],mauna_fCO2_air_uatm),\n",
    "                           # 'carbo_scope_pco2':(['time','lat','lon'],pCO2_air_cs),\n",
    "                           'time':(['time'],dates),\n",
    "                           'lat':(['lat'],wind.ylat),\n",
    "                           'lon':(['lon'],wind.xlon)})\n",
    "\n",
    "ds_flux_prep['K0'].attrs['name'] = \"solubility\"\n",
    "ds_flux_prep['K0'].attrs['units'] = \"mol/L/atm\"\n",
    "ds_flux_prep['kw'].attrs['units'] = \"cm/hr\"\n",
    "ds_flux_prep['atmos_fco2'].attrs['units'] = \"mu atm\"\n",
    "# ds_flux_prep['mauna_fco2'].attrs['units'] = \"mu atm\"\n",
    "# ds_flux_prep['carbo_scope_pco2'].attrs['units'] = \"mu atm\"\n",
    "# ds_flux_prep['kw'].attrs['more_info'] = \"ice fraction not used here for kw calculation\"\n",
    "ds_flux_prep['sst'].attrs['units'] = \"deg C (ERA5)\"\n",
    "ds_flux_prep['ws10'].attrs['units'] = \"m/s (ERA5)\"\n",
    "ds_flux_prep['slp'].attrs['units'] = \"atmospheres (ERA5)\"\n",
    "# ds_flux_prep.attrs['more_info'] = \"ERA5 for wind, MSLP, & SST, Hadley Ice; E4.2.2 for SSS; created by prep_gas_transfer.ipynb\"\n",
    "ds_flux_prep.attrs['more_info'] = \"ERA5 for wind, MSLP, & SST, Hadley Ice; E4.2.2 for SSS; created by 07_calculate_flux.ipynb\"\n",
    "ds_flux_prep.attrs['more_info2'] = \"Note: not all variables have land masked out\"   \n",
    "# ds_flux_prep.to_netcdf(\"/data/artemis/workspace/afay/LDEO_HPD/data_for_flux/ERA5_K0_kw_atmos_pco2_1959-2022.nc\")\n",
    "ds_flux_prep.to_netcdf(f'{final_result_folder}+/variables_needed_for_flux_calc_1959-2023.nc/)\n",
    "\n",
    "\n"
   ]
  },
  {
   "cell_type": "code",
   "execution_count": null,
   "id": "95a456fa-a2ad-4bd5-8a6b-79e181b010dc",
   "metadata": {},
   "outputs": [],
   "source": []
  },
  {
   "cell_type": "markdown",
   "id": "4119b0b6-c5b9-4d53-9da9-a9979df0e609",
   "metadata": {},
   "source": [
    "## Calcuate fluxes"
   ]
  },
  {
   "cell_type": "code",
   "execution_count": 29,
   "id": "2b6d2303-73d2-4602-a098-8332124ab3d2",
   "metadata": {},
   "outputs": [],
   "source": [
    "#load in the file that is saved above and use those variables to calcluate flux.\n",
    "ds = xr.open_dataset(f'{final_result_folder}+/variables_needed_for_flux_calc_1959-2023.nc')"
   ]
  },
  {
   "cell_type": "code",
   "execution_count": 30,
   "id": "9d041912-527d-4a24-b21f-cba645c9a9f9",
   "metadata": {},
   "outputs": [],
   "source": [
    "#bring in the HPD method saved previously\n",
    "\n",
    "ds1 = xr.load_dataset(f\"{final_result_folder}/GCB_2024/HPD_pCO2_cc2000s_1x1_recon_1959-2023.nc\")\n",
    "hpd = ds1['HPD_pCO2_back_in_time'] #tehcnically this is in fco2!\n",
    "\n",
    "ds1 = xr.load_dataset(f'{final_result_folder}/GCB_2024/HPD_pCO2_cc2000s_1x1_recon_1959-2023_filled.nc') \n",
    "hpd_filled = ds1['HPD_filled'] #technically this is in fco2!\n"
   ]
  },
  {
   "cell_type": "code",
   "execution_count": 33,
   "id": "8d3da93c-f071-4cfe-80ba-cc4f0c237195",
   "metadata": {},
   "outputs": [],
   "source": [
    "# calculate ice weighting (fraction)\n",
    "ice_weighting = 1 - ds.ice.fillna(0)\n",
    "# solubility (mol/L/atm) need to convert to mol/m3/uatm (by dividing by 1000 because 0.001m^3 in 1L and 10^6uatm in 1atm) \n",
    "# and kw needs converted from (cm/hr) to (m/yr) by multiplying by 87.6\n",
    "coef_convert = 87.6/1000\n",
    "\n"
   ]
  },
  {
   "cell_type": "code",
   "execution_count": null,
   "id": "f080451b-23fb-4492-97ae-e2a73bf64672",
   "metadata": {},
   "outputs": [],
   "source": []
  },
  {
   "cell_type": "code",
   "execution_count": 37,
   "id": "78afd469-0dd7-4b23-9384-62bed988d4b0",
   "metadata": {},
   "outputs": [],
   "source": [
    "#calculate delta fco2 (ocean minus atm)\n",
    "delta_hpd = hpd_filled - ds.atmos_fco2.sel(time=slice(str(processed_start_yearmonth_back_in_time),str(processed_end_yearmonth))) "
   ]
  },
  {
   "cell_type": "code",
   "execution_count": 33,
   "id": "fe0ec4b3-e3a1-4c36-affa-4b4a060b6503",
   "metadata": {},
   "outputs": [],
   "source": []
  },
  {
   "cell_type": "code",
   "execution_count": 38,
   "id": "1f210e22-871c-4236-9e19-6cf826c136b9",
   "metadata": {},
   "outputs": [],
   "source": [
    "flux_hpd = ds.K0 * ds.kw * delta_hpd * ice_weighting * coef_convert # mol/m2/yr"
   ]
  },
  {
   "cell_type": "code",
   "execution_count": 35,
   "id": "de323b73-aa90-4fd9-a560-bd344be9d8fd",
   "metadata": {},
   "outputs": [],
   "source": []
  },
  {
   "cell_type": "code",
   "execution_count": 39,
   "id": "389cb861-ef4d-4b53-98f9-4241ba938ce2",
   "metadata": {},
   "outputs": [
    {
     "data": {
      "text/plain": [
       "<matplotlib.collections.QuadMesh at 0x7f284f2a0160>"
      ]
     },
     "execution_count": 39,
     "metadata": {},
     "output_type": "execute_result"
    },
    {
     "data": {
      "image/png": "[encoded data removed]",
      "text/plain": [
       "<Figure size 432x288 with 2 Axes>"
      ]
     },
     "metadata": {
      "needs_background": "light"
     },
     "output_type": "display_data"
    }
   ],
   "source": [
    "flux_hpd[55,:,:].plot(vmin=-5,vmax=5)"
   ]
  },
  {
   "cell_type": "code",
   "execution_count": null,
   "id": "f22c0e15-4919-4cf1-bf4f-1bc8f3434f06",
   "metadata": {},
   "outputs": [],
   "source": []
  },
  {
   "cell_type": "code",
   "execution_count": null,
   "id": "a4566fec-bf57-439a-bd22-45e261dc43d7",
   "metadata": {},
   "outputs": [],
   "source": []
  },
  {
   "cell_type": "code",
   "execution_count": 42,
   "id": "7c64794c-96d7-4006-8373-48676e820e08",
   "metadata": {
    "tags": []
   },
   "outputs": [],
   "source": [
    "#import mask of open ocean from RECCAP project\n",
    "#info here: https://reccap2-ocean.github.io/regions/\n",
    "#full github here: https://github.com/RECCAP2-ocean/R2-shared-resources/tree/master\n",
    "\n",
    "import requests\n",
    "\n",
    "# url = 'https://raw.githubusercontent.com/owid/covid-19-data/master/public/data/owid-covid-data.csv'\n",
    "url = 'https://github.com/RECCAP2-ocean/R2-shared-resources/raw/master/data/regions/RECCAP2_region_masks_all_v20221025.nc'\n",
    "r = requests.get(url, allow_redirects=True)\n",
    "\n",
    "open('mask.nc', 'wb').write(r.content)\n",
    "reccap_mask = xr.open_dataset('mask.nc')\n",
    "\n",
    "#if we would need to rename, but we dont\n",
    "# reccap_mask = reccap_mask.rename({'latitude': 'lat','longitude': 'lon'})#rename to be consistent with prior work\n",
    "\n",
    "#replace longitude from 0-360 to -180 to 180\n",
    "reccap_mask['lon'] = list(map(lambda x: x-360 if x>180 else x, reccap_mask['lon'].values))\n",
    "# Sort by longitude\n",
    "reccap_mask = reccap_mask.sortby('lon')"
   ]
  },
  {
   "cell_type": "code",
   "execution_count": 51,
   "id": "d945351f-baa4-4585-9328-c89f7114aabd",
   "metadata": {
    "tags": []
   },
   "outputs": [],
   "source": [
    "from xarray import register_dataarray_accessor\n",
    "\n",
    "\n",
    "def earth_radius(lat):\n",
    "    from numpy import deg2rad, sin, cos\n",
    "\n",
    "    lat = deg2rad(lat)\n",
    "    a = 6378137\n",
    "    b = 6356752\n",
    "    r = (\n",
    "        ((a ** 2 * cos(lat)) ** 2 + (b ** 2 * sin(lat)) ** 2)\n",
    "        / ((a * cos(lat)) ** 2 + (b * sin(lat)) ** 2)\n",
    "    ) ** 0.5\n",
    "\n",
    "    return r\n",
    "\n",
    "def area_grid(lat, lon, return_dataarray=False):\n",
    "    \"\"\"Calculate the area of each grid cell for a user-provided\n",
    "    grid cell resolution. Area is in square meters, but resolution\n",
    "    is given in decimal degrees.\n",
    "    Based on the function in\n",
    "    https://github.com/chadagreene/CDT/blob/master/cdt/cdtarea.m\n",
    "    \"\"\"\n",
    "    from numpy import meshgrid, deg2rad, gradient, cos\n",
    "\n",
    "    ylat, xlon = meshgrid(lat, lon)\n",
    "    R = earth_radius(ylat)\n",
    "\n",
    "    dlat = deg2rad(gradient(ylat, axis=1))\n",
    "    dlon = deg2rad(gradient(xlon, axis=0))\n",
    "\n",
    "    dy = dlat * R\n",
    "    dx = dlon * R * cos(deg2rad(ylat))\n",
    "\n",
    "    area = dy * dx\n",
    "\n",
    "    if not return_dataarray:\n",
    "        return area\n",
    "    else:\n",
    "        from xarray import DataArray\n",
    "\n",
    "        xda = DataArray(\n",
    "            area.T,\n",
    "            dims=[\"lat\", \"lon\"],\n",
    "            coords={\"lat\": lat, \"lon\": lon},\n",
    "            attrs={\n",
    "                \"long_name\": \"area_per_pixel\",\n",
    "                \"description\": \"area per pixel\",\n",
    "                \"units\": \"m^2\",\n",
    "            },\n",
    "        )\n",
    "        return xda"
   ]
  },
  {
   "cell_type": "code",
   "execution_count": null,
   "id": "f355f376-6374-4a0e-884a-d78777d0773b",
   "metadata": {
    "tags": []
   },
   "outputs": [
    {
     "data": {
      "text/plain": [
       "(360, 180)"
      ]
     },
     "execution_count": 52,
     "metadata": {},
     "output_type": "execute_result"
    }
   ],
   "source": [
    "area_tmp = area_grid(flux_hpd.lat,flux_hpd.lon)\n",
    "area_tmp.shape"
   ]
  },
  {
   "cell_type": "code",
   "execution_count": 52,
   "id": "a3eb9001-1b6f-4b49-b98c-64a1248de948",
   "metadata": {},
   "outputs": [],
   "source": []
  },
  {
   "cell_type": "code",
   "execution_count": 53,
   "id": "f8c8794b-e884-4ef6-8ed2-a97848e9f2a0",
   "metadata": {
    "tags": []
   },
   "outputs": [],
   "source": [
    "area = xr.DataArray(area_tmp.transpose(), coords=dict( lat=flux_hpd.lat, lon=flux_hpd.lon), dims=[\"lat\", \"lon\"]) #make a dataarray of the area"
   ]
  },
  {
   "cell_type": "code",
   "execution_count": 54,
   "id": "0206ddb3-1de6-4761-82e1-3714e9dea339",
   "metadata": {
    "tags": []
   },
   "outputs": [
    {
     "data": {
      "text/plain": [
       "<matplotlib.collections.QuadMesh at 0x7feffde2c100>"
      ]
     },
     "execution_count": 54,
     "metadata": {},
     "output_type": "execute_result"
    },
    {
     "data": {
      "image/png": "[encoded data removed]",
      "text/plain": [
       "<Figure size 432x288 with 2 Axes>"
      ]
     },
     "metadata": {
      "needs_background": "light"
     },
     "output_type": "display_data"
    }
   ],
   "source": [
    "area.plot()"
   ]
  },
  {
   "cell_type": "code",
   "execution_count": 55,
   "id": "0bb94fc8-8fb7-4dc7-aae6-5fd557998599",
   "metadata": {
    "tags": []
   },
   "outputs": [],
   "source": [
    "del area_tmp"
   ]
  },
  {
   "cell_type": "code",
   "execution_count": null,
   "id": "26dbbd28-d0e5-4b56-86a3-9fc8a395876d",
   "metadata": {},
   "outputs": [],
   "source": []
  },
  {
   "cell_type": "code",
   "execution_count": null,
   "id": "c0e20624-5c9a-4f1c-a64d-9832ee3a2fcb",
   "metadata": {},
   "outputs": [],
   "source": []
  },
  {
   "cell_type": "code",
   "execution_count": null,
   "id": "2af1a7e6-b89a-47b0-90f4-325970d49b50",
   "metadata": {},
   "outputs": [],
   "source": []
  },
  {
   "cell_type": "code",
   "execution_count": 43,
   "id": "851c4971-0174-43a9-ad20-1d6e08b00419",
   "metadata": {},
   "outputs": [],
   "source": [
    "flux_tmp = flux_hpd * area *12 # g/yr\n",
    "flux_hpd_global = flux_tmp.where(reccap_mask['seamask']>=1).sum(['lat','lon'])\n",
    "#annual fluxes\n",
    "flux_hpd_global_annual = flux_hpd_global.groupby(\"time.year\").mean(\"time\")"
   ]
  },
  {
   "cell_type": "code",
   "execution_count": null,
   "id": "ecff7168-5b5f-4803-abb7-89f75e45caba",
   "metadata": {},
   "outputs": [],
   "source": []
  },
  {
   "cell_type": "code",
   "execution_count": 68,
   "id": "98f4445a-d5d8-41c8-a84c-423507cae49c",
   "metadata": {},
   "outputs": [],
   "source": [
    "#need to save flux here\n",
    "#save in a format we usually use (where flux values are negative for example)\n",
    "#use a different code to save for GCB specifically\n",
    "\n",
    "# Write to file:\n",
    "co2_out = xr.Dataset({\n",
    "                        'CO2_flux':([\"year\"],flux_hpd_global_annual/(10**15)),\n",
    "                        # 'CO2cc':([\"year\"],flux_hpdclim/(10**15)),\n",
    "                        'fgco2':([\"time\",\"lat\",\"lon\"],flux_hpd),\n",
    "                        # 'fgco2_cc':([\"time\",\"lat\",\"lon\"],co2_clim)},\n",
    "                                },\n",
    "                        coords={'year':(['year'],range(1959,2024)),\n",
    "                               'time':(['time'],flux_hpd.time),\n",
    "                               'lat':(['lat'],flux_hpd.lat),\n",
    "                               'lon':(['lon'],flux_hpd.lon)})\n",
    "        \n",
    "# Save to netcdf\n",
    "co2_out['CO2_flux'].attrs['description'] = \"CO2 Flux, climatology of correction (2000-2023) used for fCO2 prior to 1982\"\n",
    "co2_out['CO2_flux'].attrs['units'] = \"PgC/yr\"\n",
    "# co2_out['CO2cc'].attrs['description'] = \"CO2 Flux, climatology of correction used for pCO2 ENTIRE TIME\"\n",
    "# co2_out['CO2cc'].attrs['units'] = \"PgC/yr\"\n",
    "co2_out['fgco2'].attrs['description'] = \"CO2 Flux density, climatology of correction (2000-2023) used for fCO2 prior to 1982\"\n",
    "co2_out['fgco2'].attrs['units'] = \"molC/m2/yr\"\n",
    "# co2_out['fgco2_cc'].attrs['description'] = \"CO2 Flux, Climatology of correction used for pCO2 ENTIRE TIME\"\n",
    "# co2_out['fgco2_cc'].attrs['units'] = \"molC/m2/yr\"\n",
    "co2_out.attrs['title']=\"LDEO-HPD Clim Correct 2000-2023\"\n",
    "co2_out.attrs['notes']=\"all values are now fCO2 (rather than pCO2)\"\n",
    "co2_out.attrs['notes']=\"HPD method now based on 10 models from GCB2024\"\n",
    "co2_out.attrs['history']=\"XGBoost results and Clim Corrections by AFay, based on code from LGloege, VBennington, DSemant\"\n",
    "co2_out.attrs['institution']=\"Lamont Doherty Earth Observatory at Columbia\"\n",
    "co2_out.attrs['references']=\"/home/afay/LDEO_HPD/devans_code/07_calculate_flux.ipynb\"\n",
    "co2_out.attrs['date_created']=str(datetime.datetime.now())\n",
    "co2_out.to_netcdf(f'{final_result_folder}/GCB_2024/LDEO_HPD_backintime_1x1_flux_1959-2023.nc') \n",
    "    "
   ]
  },
  {
   "cell_type": "code",
   "execution_count": null,
   "id": "2878ca0e-59c8-4b3f-9b18-82f44e1dff63",
   "metadata": {},
   "outputs": [],
   "source": []
  },
  {
   "cell_type": "code",
   "execution_count": null,
   "id": "a4184810-be6c-4b08-906d-1b8a8c998cad",
   "metadata": {},
   "outputs": [],
   "source": []
  },
  {
   "cell_type": "code",
   "execution_count": null,
   "id": "00915e1a-521e-454d-a976-fa678ff7086a",
   "metadata": {},
   "outputs": [],
   "source": []
  },
  {
   "cell_type": "code",
   "execution_count": null,
   "id": "7743f571-e8c9-46aa-b17e-76f7a4c95248",
   "metadata": {},
   "outputs": [],
   "source": []
  },
  {
   "cell_type": "code",
   "execution_count": null,
   "id": "484b7b7a-36c5-41a8-96d7-526a9c239ee6",
   "metadata": {},
   "outputs": [],
   "source": []
  },
  {
   "cell_type": "code",
   "execution_count": null,
   "id": "f01aeb9a-6f7d-40ec-a8d1-ddbc64a8cb35",
   "metadata": {},
   "outputs": [],
   "source": []
  }
 ],
 "metadata": {
  "kernelspec": {
   "display_name": "HPD",
   "language": "python",
   "name": "cesm_play"
  },
  "language_info": {
   "codemirror_mode": {
    "name": "ipython",
    "version": 3
   },
   "file_extension": ".py",
   "mimetype": "text/x-python",
   "name": "python",
   "nbconvert_exporter": "python",
   "pygments_lexer": "ipython3",
   "version": "3.8.5"
  }
 },
 "nbformat": 4,
 "nbformat_minor": 5
}
