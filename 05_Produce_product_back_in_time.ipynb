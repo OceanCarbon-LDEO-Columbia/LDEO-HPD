{
 "cells": [
  {
   "cell_type": "raw",
   "id": "4c0c4791-9ef0-41b0-9cc1-dac84edafb55",
   "metadata": {},
   "source": [
    "Code to combine the model with the error reconstruction and then take a mean of the models to get our one final reconstruction. \n",
    "Will also calculate back in time reconstruction here\n"
   ]
  },
  {
   "cell_type": "code",
   "execution_count": 1,
   "id": "f7af11c8-bc68-4661-a760-5e7bfd2f1316",
   "metadata": {},
   "outputs": [],
   "source": [
    "# standard imports\n",
    "import pickle\n",
    "import os\n",
    "import scipy\n",
    "from scipy import stats\n",
    "import numpy as np\n",
    "import pandas as pd\n",
    "import xgboost as xgb\n",
    "import sklearn\n",
    "from sklearn.model_selection import train_test_split\n",
    "import xarray as xr\n",
    "import datetime\n",
    "import matplotlib.dates as mdates\n",
    "\n",
    "from numpy import errstate,isneginf,array\n",
    "import yaml\n",
    "\n",
    "import seaborn as sns\n",
    "import cmocean as cm            # really nice colorbars\n",
    "import matplotlib.pyplot as plt # for making plots"
   ]
  },
  {
   "cell_type": "code",
   "execution_count": 2,
   "id": "10874efb-566d-4840-abdb-219193bafd1d",
   "metadata": {},
   "outputs": [],
   "source": [
    "####need to figure out this coding for where things are stored:"
   ]
  },
  {
   "cell_type": "code",
   "execution_count": 3,
   "id": "6b470ce1-405e-44e3-9e1c-ba889b96c646",
   "metadata": {},
   "outputs": [],
   "source": [
    "#This file contains configuration details like API keys and passwords\n",
    "global_vars = yaml.safe_load(open('../config.yml', 'r') )\n",
    "\n",
    "#This has custom functions - log transform\n",
    "# %run '/home/ds4114/repos/LDEO_Ocean_CO2_Residual/code/00_custom_functions.ipynb'\n",
    "%run './00_custom_functions.ipynb'\n",
    "#more functions for flux conversions\n",
    "%run './00_co2_flux_equations.ipynb'"
   ]
  },
  {
   "cell_type": "code",
   "execution_count": 4,
   "id": "80fb0f7a-0bdb-430b-910d-72a484ac7f8f",
   "metadata": {},
   "outputs": [
    {
     "name": "stdout",
     "output_type": "stream",
     "text": [
      "/data/artemis/workspace/afay/LDEO_HPD/data/\n",
      "Files will be outputed as: .nc\n"
     ]
    }
   ],
   "source": [
    "#Set base folders\n",
    "result_folder = global_vars['reconstruction_folder']\n",
    "data_folder_root = global_vars['download_folder']\n",
    "print(result_folder)\n",
    "\n",
    "#This variable sets the output file type. \n",
    "#When using cloud storage, it is recommended to use ARCO (Analysis-Ready Cloud-Optimized) formats like Zarr over NetCDF\n",
    "output_file_type = '.zarr' if data_folder_root[0:5] == 'gs://' else '.nc'\n",
    "print(f'Files will be outputed as: {output_file_type}')"
   ]
  },
  {
   "cell_type": "code",
   "execution_count": 7,
   "id": "d4bc51b1-c40c-4d2c-af3d-df7288c8bda7",
   "metadata": {},
   "outputs": [],
   "source": [
    "# Dates of Reconstruction \n",
    "# date_range_start = '1959-01-01T00:00:00.000000000'\n",
    "date_range_start = '1982-01-01T00:00:00.000000000'\n",
    "date_range_end = '2023-12-01T00:00:00.000000000'\n",
    "\n",
    "# create date vector\n",
    "dates = pd.date_range(start=date_range_start, \n",
    "                      end=date_range_end,freq='MS') + np.timedelta64(14, 'D')\n",
    "\n",
    "# Dates of Reconstruction for back intime\n",
    "# date_range_start = '1959-01-01T00:00:00.000000000'\n",
    "date_range_start_back_time_time = '1959-01-01T00:00:00.000000000'\n",
    "\n",
    "# create date vector\n",
    "dates_back_in_time = pd.date_range(start=date_range_start_back_time_time, \n",
    "                      end=date_range_end,freq='MS') + np.timedelta64(14, 'D')\n",
    "\n",
    "yr_end = 2023"
   ]
  },
  {
   "cell_type": "markdown",
   "id": "beac1b19-d442-42fd-b915-f3fb1e952d50",
   "metadata": {},
   "source": [
    "### Calculate reconstructed fCO2 from models +error"
   ]
  },
  {
   "cell_type": "code",
   "execution_count": 8,
   "id": "4e9567af-4515-47a6-b83a-70dd10da5b1b",
   "metadata": {},
   "outputs": [],
   "source": [
    "####CHANGE TO MATCH NEW GOBM FILE EACH YEAR\n",
    "\n",
    "#2024 models\n",
    "models = ['cnrm', 'fesom2', 'ipsl', 'princeton', \n",
    "               'mri','noresm', 'planktom',\n",
    "             'cesm_ethz','mpi','access']\n",
    "\n",
    "#2023 models\n",
    "# models = [ 'CNRM-ESM2-1', #v2023 models\n",
    "#                'FESOM2-REcoM',\n",
    "#                'IPSL',\n",
    "#                'MOM6-Princeton', \n",
    "#                'MRI-ESM2-2',\n",
    "#                'NorESM-OC1.2',\n",
    "#                'CESM-ETHZ',\n",
    "#                'ACCESS']\n",
    "\n",
    "model_count = 10 #just hardcode here the number of models that go into this version"
   ]
  },
  {
   "cell_type": "code",
   "execution_count": 9,
   "id": "98f66dd1-e7d5-49fd-957c-b530c497cf85",
   "metadata": {},
   "outputs": [],
   "source": [
    "\n",
    "ds = xr.load_dataset(f\"{result_folder}/HPD_LEAP_fco2-error-reconstructed-10-GOBMs_2024models_198201-202312.nc\")\n"
   ]
  },
  {
   "cell_type": "code",
   "execution_count": 84,
   "id": "2b907396-e263-4060-9d3e-b4d0fbdc5faf",
   "metadata": {},
   "outputs": [],
   "source": []
  },
  {
   "cell_type": "code",
   "execution_count": null,
   "id": "a85fa2b3-546a-4f43-880e-91d2491f6078",
   "metadata": {},
   "outputs": [],
   "source": []
  },
  {
   "cell_type": "code",
   "execution_count": 11,
   "id": "01a83b69-fe78-499d-8b0e-d8c0ebfa8413",
   "metadata": {},
   "outputs": [],
   "source": [
    "# Initialize array to include all model reconstructions...\n",
    "# Since some values are NaN in some grid locations, we cannot just sum the pCO2s and divide by number of models\n",
    "recon_array = np.empty(shape=(model_count,dates.size,180,360))"
   ]
  },
  {
   "cell_type": "code",
   "execution_count": 12,
   "id": "43ad33e7-9240-426f-b093-a9d8384f2714",
   "metadata": {},
   "outputs": [
    {
     "name": "stdout",
     "output_type": "stream",
     "text": [
      "cnrm\n",
      "fesom2\n",
      "ipsl\n",
      "princeton\n",
      "mri\n",
      "noresm\n",
      "planktom\n",
      "cesm_ethz\n",
      "mpi\n",
      "access\n"
     ]
    }
   ],
   "source": [
    "m=0\n",
    "for mod in models:\n",
    "    \n",
    "    print(mod)\n",
    "    # tmp = xr.load_dataset(f\"{recon_output_dir}/{mod}_recon_198201-201912.nc\")\n",
    "    \n",
    "    # Want pCO2 reconstruction, which is error + model\n",
    "    # df['error'] =  df['pCO2'] - df[f\"{mod}\"]\n",
    "    guess = ds[f\"{mod}\"] + ds[f\"{mod}_error_correction\"]\n",
    "    # guess = (tmp[f\"{mod}\"] + tmp[f\"error_{mod}\"]).transpose(\"time\",\"ylat\",\"xlon\")\n",
    "    # del tmp\n",
    "    \n",
    "    recon_array[m,:,:,:] = guess\n",
    "    \n",
    "    del guess\n",
    "    m +=1 "
   ]
  },
  {
   "cell_type": "code",
   "execution_count": 16,
   "id": "86a2d394-2e34-415e-bba4-e30e3b5f5759",
   "metadata": {},
   "outputs": [
    {
     "name": "stderr",
     "output_type": "stream",
     "text": [
      "<ipython-input-16-9d97a3eb2b40>:1: RuntimeWarning: Mean of empty slice\n",
      "  recon_pCO2 = np.nanmean(recon_array,axis=0) #takes the mean over the models\n"
     ]
    }
   ],
   "source": [
    "recon_pCO2 = np.nanmean(recon_array,axis=0) #takes the mean over the models\n",
    "#annoying, but this ends up being a numpy array"
   ]
  },
  {
   "cell_type": "code",
   "execution_count": null,
   "id": "fc511a5a-0987-4fe8-bc3b-e5f0747ef266",
   "metadata": {},
   "outputs": [],
   "source": []
  },
  {
   "cell_type": "markdown",
   "id": "0bb52f00-f8b4-4972-a4b5-fe048c9b24cc",
   "metadata": {},
   "source": [
    "### Back in time calculation"
   ]
  },
  {
   "cell_type": "raw",
   "id": "997fd182-1586-49f1-9b4f-722b0bb5e798",
   "metadata": {},
   "source": [
    "Previously we tried calculating a climatology with various year subsets, but results didnt look very different (see Bennington et al. 2022)\n",
    "Now we just use 2000-end year for climatology correction."
   ]
  },
  {
   "cell_type": "code",
   "execution_count": 19,
   "id": "9645e06b-2dd7-4bd1-b1c0-80004f69367b",
   "metadata": {},
   "outputs": [],
   "source": [
    "#climatology of reconstruction, by model\n",
    "clim_corr_2000s = np.empty(shape=(model_count,12,180,360)) #this is what galen wants us to use now!"
   ]
  },
  {
   "cell_type": "code",
   "execution_count": 20,
   "id": "914e923d-da23-4f1a-9b24-8bd560c07d33",
   "metadata": {},
   "outputs": [
    {
     "name": "stdout",
     "output_type": "stream",
     "text": [
      "cnrm\n",
      "fesom2\n",
      "ipsl\n",
      "princeton\n",
      "mri\n",
      "noresm\n",
      "planktom\n",
      "cesm_ethz\n",
      "mpi\n",
      "access\n"
     ]
    }
   ],
   "source": [
    "# Get climatology of corrections #\n",
    "##################################\n",
    "m=0\n",
    "for mod in models:\n",
    "    \n",
    "    print(mod)\n",
    "    clim_corr_2000s[m,:,:,:]= ds[f\"{mod}_error_correction\"].transpose(\"time\",\"ylat\",\"xlon\").sel(time=slice('2000-01-01',dates[-1])).groupby(\"time.month\").mean(\"time\")\n",
    "    # del tmp\n",
    "        \n",
    "    m +=1 "
   ]
  },
  {
   "cell_type": "code",
   "execution_count": 36,
   "id": "a055b754-81ff-4e1b-abab-e0315947809b",
   "metadata": {},
   "outputs": [
    {
     "data": {
      "text/plain": [
       "Frozen(SortedKeysDict({'ylat': 180, 'time': 504, 'xlon': 360}))"
      ]
     },
     "execution_count": 36,
     "metadata": {},
     "output_type": "execute_result"
    }
   ],
   "source": [
    "ds.dims"
   ]
  },
  {
   "cell_type": "code",
   "execution_count": 22,
   "id": "fbc07e28-60a1-4d99-adea-ad27e7c48621",
   "metadata": {},
   "outputs": [
    {
     "name": "stdout",
     "output_type": "stream",
     "text": [
      "[1, 2, 3, 4, 5, 6, 7, 8, 9, 10, 11, 12]\n"
     ]
    }
   ],
   "source": [
    "month = [1,2,3,4,5,6,7,8,9,10,11,12]\n",
    "print(month)"
   ]
  },
  {
   "cell_type": "code",
   "execution_count": null,
   "id": "d1840923-b284-40ed-b455-497bd2a4aa60",
   "metadata": {},
   "outputs": [],
   "source": []
  },
  {
   "cell_type": "code",
   "execution_count": null,
   "id": "9cb51c5f-e8af-4194-97f4-e641a29edd8b",
   "metadata": {},
   "outputs": [],
   "source": []
  },
  {
   "cell_type": "markdown",
   "id": "8042d462-9204-4d1c-a8ad-f483820426d4",
   "metadata": {},
   "source": [
    "#### reconstruct fCO2 back in time"
   ]
  },
  {
   "cell_type": "code",
   "execution_count": 28,
   "id": "b6128789-d465-45c6-9d90-85053a2bfed4",
   "metadata": {},
   "outputs": [],
   "source": [
    "#use clim correction for years before 1982\n",
    "pCO2_cc_2000s = np.empty(shape=(model_count,dates_back_in_time.size,180,360))\n",
    "\n",
    "#for comparison, we will create a version that calculates fCO2 reconstruction if we used the constant climatology correciton for ALL years\n",
    "pCO2_cc_2000s_all = np.empty(shape=(model_count,dates_back_in_time.size,180,360))"
   ]
  },
  {
   "cell_type": "code",
   "execution_count": 29,
   "id": "a94cd9fe-76ae-4de1-a1de-9ef713c31668",
   "metadata": {},
   "outputs": [],
   "source": [
    "#need to load in full models that go back to 1959 for use here:\n",
    "\n",
    "models_full= ds = xr.load_dataset(f\"{data_folder_root}/GOBM/processed/GOBM_GCB-2024_fco2-10-models_195901-202312.nc\")\n"
   ]
  },
  {
   "cell_type": "code",
   "execution_count": null,
   "id": "57aa674c-0a36-49f7-855a-e2988e3306e1",
   "metadata": {},
   "outputs": [],
   "source": []
  },
  {
   "cell_type": "code",
   "execution_count": 31,
   "id": "be15bf74-b357-49e9-8b9d-08302fb1929a",
   "metadata": {},
   "outputs": [
    {
     "name": "stdout",
     "output_type": "stream",
     "text": [
      "cnrm\n",
      "fesom2\n",
      "ipsl\n",
      "princeton\n",
      "mri\n",
      "noresm\n",
      "planktom\n",
      "cesm_ethz\n",
      "mpi\n",
      "access\n"
     ]
    }
   ],
   "source": [
    "##################################\n",
    "#dm is the model array above.\n",
    "m=0\n",
    "for mod in models:\n",
    "    \n",
    "    print(mod)\n",
    "    \n",
    "    for yr in range(1959,1982):\n",
    "        #so this is doing, for 1959-1982, adjusting the model with the climatology of the correction created by teh HPD approach\n",
    "        pCO2_cc_2000s[m,(yr-1959)*12:(yr-1958)*12,:,:] = clim_corr_2000s[m,:,:,:] + models_full[f\"{mod}\"].sel(time=slice(f\"{yr}-01-01\",f\"{yr}-12-31\"))\n",
    "        \n",
    "    for yr in range(1959,yr_end):\n",
    "        #this is adjusting the model with the climatology of the correction created by the HPD approach for the entire time series.\n",
    "        pCO2_cc_2000s_all[m,(yr-1959)*12:(yr-1958)*12,:,:] = clim_corr_2000s[m,:,:,:] + models_full[f\"{mod}\"].sel(time=slice(f\"{yr}-01-01\",f\"{yr}-12-31\"))\n",
    "        \n",
    "    m +=1 "
   ]
  },
  {
   "cell_type": "code",
   "execution_count": 32,
   "id": "152dc1a8-ab1e-4e62-bb3a-b47f2b6a6d32",
   "metadata": {},
   "outputs": [
    {
     "name": "stdout",
     "output_type": "stream",
     "text": [
      "(10, 504, 180, 360)\n",
      "cnrm\n",
      "fesom2\n",
      "ipsl\n",
      "princeton\n",
      "mri\n",
      "noresm\n",
      "planktom\n",
      "cesm_ethz\n",
      "mpi\n",
      "access\n"
     ]
    }
   ],
   "source": [
    "#### Fill in 1982-end with LDEO-HPD results (this is saved in recon_array above for the indiv models and recon_pCO2 for the mean):\n",
    "print(recon_array.shape) #ensure this is 480 months long and put in at end of time series here for the models.\n",
    "l = len(recon_array[1]) #find the length of the time dimension here to use in this loop\n",
    "\n",
    "m = 0\n",
    "for mod in models:\n",
    "    print(mod)\n",
    "    pCO2_cc_2000s[m,-l::,:,:] = recon_array[m,:,:,:]\n",
    "    m+=1"
   ]
  },
  {
   "cell_type": "code",
   "execution_count": 33,
   "id": "ca318769-1b83-4d3c-9d24-f3edef0b0619",
   "metadata": {},
   "outputs": [
    {
     "name": "stderr",
     "output_type": "stream",
     "text": [
      "<ipython-input-33-d1bf17e22ac3>:2: RuntimeWarning: Mean of empty slice\n",
      "  recon_pCO2_back_in_time = np.nanmean(pCO2_cc_2000s,axis=0) #takes the mean over the models\n",
      "<ipython-input-33-d1bf17e22ac3>:3: RuntimeWarning: Mean of empty slice\n",
      "  recon_pCO2_back_in_time_1990_2009 = np.nanmean(pCO2_cc_1990,axis=0) #takes the mean over the models\n"
     ]
    }
   ],
   "source": [
    "#take mean over models for reconstruction back in time as well\n",
    "recon_pCO2_back_in_time = np.nanmean(pCO2_cc_2000s,axis=0) #takes the mean over the models"
   ]
  },
  {
   "cell_type": "code",
   "execution_count": null,
   "id": "f6206d44-59da-42ee-ae49-5ec3a83736e0",
   "metadata": {},
   "outputs": [],
   "source": []
  },
  {
   "cell_type": "markdown",
   "id": "36c78ff1-0b45-49fe-92a0-52bd4d45d4b7",
   "metadata": {},
   "source": [
    "## Save netcdf of HPD back in time"
   ]
  },
  {
   "cell_type": "code",
   "execution_count": 35,
   "id": "20599024-6115-4a0c-8f06-4987cfc3a391",
   "metadata": {},
   "outputs": [],
   "source": [
    "# Create DataSets and Write out NETCDFs for Reconstructed pCO2:\n",
    "final_result_folder = global_vars['hpd_save_folder']\n",
    "# recon_output_dirAF = \"/data/artemis/workspace/afay/LDEO_HPD/models/XGB/GCB_2022\"\n",
    "\n",
    "\n",
    "ds3_out = xr.Dataset({\n",
    "                        'HPD_pCO2_back_in_time':([\"time\",\"lat\",\"lon\"],recon_pCO2_back_in_time.data),\n",
    "                        'pCO2':([\"model\",\"time\",\"lat\",\"lon\"],pCO2_cc_2000s.data),\n",
    "                        'pCO2cc':([\"model\",\"time\",\"lat\",\"lon\"],pCO2_cc_2000s_all.data),\n",
    "                        'correction':([\"model\",\"month\",\"lat\",\"lon\"],clim_corr_2000s)},\n",
    "                        coords={'model':(['model'],models),\n",
    "                        'month':(['month'],range(1,13)),\n",
    "                        'time': (['time'],dates_back_in_time),\n",
    "                        'lat': (['lat'],ds.ylat.data),\n",
    "                        'lon':(['lon'],ds.xlon.data)})\n",
    "        \n",
    "# Save to netcdf\n",
    "ds3_out['HPD_pCO2_back_in_time'].attrs['description'] = \"Mean of model corr recons, clim of corr (2000-end) used for pCO2 prior to 1982\"\n",
    "ds3_out['HPD_pCO2_back_in_time'].attrs['units'] = \"uatm\"\n",
    "ds3_out['pCO2'].attrs['description'] = \"Final recon for each model, clim of corr (2000-end) used for pCO2 prior to 1982\"\n",
    "ds3_out['pCO2'].attrs['units'] = \"uatm\"\n",
    "ds3_out['pCO2cc'].attrs['description'] = \"Final recon for each model, Clim of corr (2000-end) used for pCO2 ENTIRE TIME\"\n",
    "ds3_out['pCO2cc'].attrs['units'] = \"uatm\"\n",
    "ds3_out['correction'].attrs['description'] = \"The climatology of correction (2000-end) that is used for pCO2 recon (pCO2 = correction + model)\"\n",
    "ds3_out['correction'].attrs['units'] = \"uatm\"\n",
    "ds3_out.attrs['title']=\"LDEO-HPD Clim Correct 2000-end\"\n",
    "ds3_out.attrs['history']=\"XGBoost results and Clim Corrections by AFay\"\n",
    "ds3_out.attrs['institution']=\"Lamont Doherty Earth Observatory at Columbia\"\n",
    "\n",
    "# ds3_out.attrs['references']=\"/home/afay/LDEO_HPD/Back_in_Time/recon_pCO2_CO2flux_v2022.ipynb\"\n",
    "ds3_out.attrs['references']=\"/home/afay/LDEO_HPD/devans_code/05_Produce_product_back_in_time.ipynb\"\n",
    "ds3_out.attrs['date_created']=str(datetime.datetime.now())\n",
    "ds3_out.to_netcdf(f'{final_result_folder}/GCB_2024/HPD_pCO2_cc2000s_1x1_recon_1959-2023.nc') \n"
   ]
  },
  {
   "cell_type": "code",
   "execution_count": null,
   "id": "f31555da-30b3-4751-bf31-87257112716c",
   "metadata": {},
   "outputs": [],
   "source": []
  },
  {
   "cell_type": "code",
   "execution_count": null,
   "id": "9459e7ee-7703-4ab4-aee9-a1c0e10c4f52",
   "metadata": {},
   "outputs": [],
   "source": []
  },
  {
   "cell_type": "code",
   "execution_count": null,
   "id": "dcc87355-324e-43ca-885b-ac85cbeef4c8",
   "metadata": {},
   "outputs": [],
   "source": []
  },
  {
   "cell_type": "code",
   "execution_count": null,
   "id": "b05ff7bb-744e-4764-a9a7-005e7ba4c56a",
   "metadata": {},
   "outputs": [],
   "source": []
  }
 ],
 "metadata": {
  "kernelspec": {
   "display_name": "HPD",
   "language": "python",
   "name": "cesm_play"
  },
  "language_info": {
   "codemirror_mode": {
    "name": "ipython",
    "version": 3
   },
   "file_extension": ".py",
   "mimetype": "text/x-python",
   "name": "python",
   "nbconvert_exporter": "python",
   "pygments_lexer": "ipython3",
   "version": "3.8.5"
  }
 },
 "nbformat": 4,
 "nbformat_minor": 5
}
